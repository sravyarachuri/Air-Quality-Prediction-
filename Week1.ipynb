{
  "nbformat": 4,
  "nbformat_minor": 0,
  "metadata": {
    "colab": {
      "provenance": []
    },
    "kernelspec": {
      "name": "python3",
      "display_name": "Python 3"
    },
    "language_info": {
      "name": "python"
    }
  },
  "cells": [
    {
      "cell_type": "markdown",
      "source": [
        "#**Upload your Zip File to Colab**"
      ],
      "metadata": {
        "id": "uy-ps8EscIxb"
      }
    },
    {
      "cell_type": "code",
      "execution_count": 16,
      "metadata": {
        "colab": {
          "base_uri": "https://localhost:8080/",
          "height": 74
        },
        "id": "14oMUO9zRH4s",
        "outputId": "305ff324-d05d-45b0-eba0-aa81b611dc3b"
      },
      "outputs": [
        {
          "output_type": "display_data",
          "data": {
            "text/plain": [
              "<IPython.core.display.HTML object>"
            ],
            "text/html": [
              "\n",
              "     <input type=\"file\" id=\"files-db3959b9-d2b2-433c-9d90-14aeee1f808e\" name=\"files[]\" multiple disabled\n",
              "        style=\"border:none\" />\n",
              "     <output id=\"result-db3959b9-d2b2-433c-9d90-14aeee1f808e\">\n",
              "      Upload widget is only available when the cell has been executed in the\n",
              "      current browser session. Please rerun this cell to enable.\n",
              "      </output>\n",
              "      <script>// Copyright 2017 Google LLC\n",
              "//\n",
              "// Licensed under the Apache License, Version 2.0 (the \"License\");\n",
              "// you may not use this file except in compliance with the License.\n",
              "// You may obtain a copy of the License at\n",
              "//\n",
              "//      http://www.apache.org/licenses/LICENSE-2.0\n",
              "//\n",
              "// Unless required by applicable law or agreed to in writing, software\n",
              "// distributed under the License is distributed on an \"AS IS\" BASIS,\n",
              "// WITHOUT WARRANTIES OR CONDITIONS OF ANY KIND, either express or implied.\n",
              "// See the License for the specific language governing permissions and\n",
              "// limitations under the License.\n",
              "\n",
              "/**\n",
              " * @fileoverview Helpers for google.colab Python module.\n",
              " */\n",
              "(function(scope) {\n",
              "function span(text, styleAttributes = {}) {\n",
              "  const element = document.createElement('span');\n",
              "  element.textContent = text;\n",
              "  for (const key of Object.keys(styleAttributes)) {\n",
              "    element.style[key] = styleAttributes[key];\n",
              "  }\n",
              "  return element;\n",
              "}\n",
              "\n",
              "// Max number of bytes which will be uploaded at a time.\n",
              "const MAX_PAYLOAD_SIZE = 100 * 1024;\n",
              "\n",
              "function _uploadFiles(inputId, outputId) {\n",
              "  const steps = uploadFilesStep(inputId, outputId);\n",
              "  const outputElement = document.getElementById(outputId);\n",
              "  // Cache steps on the outputElement to make it available for the next call\n",
              "  // to uploadFilesContinue from Python.\n",
              "  outputElement.steps = steps;\n",
              "\n",
              "  return _uploadFilesContinue(outputId);\n",
              "}\n",
              "\n",
              "// This is roughly an async generator (not supported in the browser yet),\n",
              "// where there are multiple asynchronous steps and the Python side is going\n",
              "// to poll for completion of each step.\n",
              "// This uses a Promise to block the python side on completion of each step,\n",
              "// then passes the result of the previous step as the input to the next step.\n",
              "function _uploadFilesContinue(outputId) {\n",
              "  const outputElement = document.getElementById(outputId);\n",
              "  const steps = outputElement.steps;\n",
              "\n",
              "  const next = steps.next(outputElement.lastPromiseValue);\n",
              "  return Promise.resolve(next.value.promise).then((value) => {\n",
              "    // Cache the last promise value to make it available to the next\n",
              "    // step of the generator.\n",
              "    outputElement.lastPromiseValue = value;\n",
              "    return next.value.response;\n",
              "  });\n",
              "}\n",
              "\n",
              "/**\n",
              " * Generator function which is called between each async step of the upload\n",
              " * process.\n",
              " * @param {string} inputId Element ID of the input file picker element.\n",
              " * @param {string} outputId Element ID of the output display.\n",
              " * @return {!Iterable<!Object>} Iterable of next steps.\n",
              " */\n",
              "function* uploadFilesStep(inputId, outputId) {\n",
              "  const inputElement = document.getElementById(inputId);\n",
              "  inputElement.disabled = false;\n",
              "\n",
              "  const outputElement = document.getElementById(outputId);\n",
              "  outputElement.innerHTML = '';\n",
              "\n",
              "  const pickedPromise = new Promise((resolve) => {\n",
              "    inputElement.addEventListener('change', (e) => {\n",
              "      resolve(e.target.files);\n",
              "    });\n",
              "  });\n",
              "\n",
              "  const cancel = document.createElement('button');\n",
              "  inputElement.parentElement.appendChild(cancel);\n",
              "  cancel.textContent = 'Cancel upload';\n",
              "  const cancelPromise = new Promise((resolve) => {\n",
              "    cancel.onclick = () => {\n",
              "      resolve(null);\n",
              "    };\n",
              "  });\n",
              "\n",
              "  // Wait for the user to pick the files.\n",
              "  const files = yield {\n",
              "    promise: Promise.race([pickedPromise, cancelPromise]),\n",
              "    response: {\n",
              "      action: 'starting',\n",
              "    }\n",
              "  };\n",
              "\n",
              "  cancel.remove();\n",
              "\n",
              "  // Disable the input element since further picks are not allowed.\n",
              "  inputElement.disabled = true;\n",
              "\n",
              "  if (!files) {\n",
              "    return {\n",
              "      response: {\n",
              "        action: 'complete',\n",
              "      }\n",
              "    };\n",
              "  }\n",
              "\n",
              "  for (const file of files) {\n",
              "    const li = document.createElement('li');\n",
              "    li.append(span(file.name, {fontWeight: 'bold'}));\n",
              "    li.append(span(\n",
              "        `(${file.type || 'n/a'}) - ${file.size} bytes, ` +\n",
              "        `last modified: ${\n",
              "            file.lastModifiedDate ? file.lastModifiedDate.toLocaleDateString() :\n",
              "                                    'n/a'} - `));\n",
              "    const percent = span('0% done');\n",
              "    li.appendChild(percent);\n",
              "\n",
              "    outputElement.appendChild(li);\n",
              "\n",
              "    const fileDataPromise = new Promise((resolve) => {\n",
              "      const reader = new FileReader();\n",
              "      reader.onload = (e) => {\n",
              "        resolve(e.target.result);\n",
              "      };\n",
              "      reader.readAsArrayBuffer(file);\n",
              "    });\n",
              "    // Wait for the data to be ready.\n",
              "    let fileData = yield {\n",
              "      promise: fileDataPromise,\n",
              "      response: {\n",
              "        action: 'continue',\n",
              "      }\n",
              "    };\n",
              "\n",
              "    // Use a chunked sending to avoid message size limits. See b/62115660.\n",
              "    let position = 0;\n",
              "    do {\n",
              "      const length = Math.min(fileData.byteLength - position, MAX_PAYLOAD_SIZE);\n",
              "      const chunk = new Uint8Array(fileData, position, length);\n",
              "      position += length;\n",
              "\n",
              "      const base64 = btoa(String.fromCharCode.apply(null, chunk));\n",
              "      yield {\n",
              "        response: {\n",
              "          action: 'append',\n",
              "          file: file.name,\n",
              "          data: base64,\n",
              "        },\n",
              "      };\n",
              "\n",
              "      let percentDone = fileData.byteLength === 0 ?\n",
              "          100 :\n",
              "          Math.round((position / fileData.byteLength) * 100);\n",
              "      percent.textContent = `${percentDone}% done`;\n",
              "\n",
              "    } while (position < fileData.byteLength);\n",
              "  }\n",
              "\n",
              "  // All done.\n",
              "  yield {\n",
              "    response: {\n",
              "      action: 'complete',\n",
              "    }\n",
              "  };\n",
              "}\n",
              "\n",
              "scope.google = scope.google || {};\n",
              "scope.google.colab = scope.google.colab || {};\n",
              "scope.google.colab._files = {\n",
              "  _uploadFiles,\n",
              "  _uploadFilesContinue,\n",
              "};\n",
              "})(self);\n",
              "</script> "
            ]
          },
          "metadata": {}
        },
        {
          "output_type": "stream",
          "name": "stdout",
          "text": [
            "Saving AP001.csv.zip to AP001.csv (2).zip\n"
          ]
        }
      ],
      "source": [
        "from google.colab import files\n",
        "import zipfile\n",
        "import os\n",
        "\n",
        "# Upload the ZIP file\n",
        "uploaded = files.upload()\n"
      ]
    },
    {
      "cell_type": "markdown",
      "source": [
        "#**Unzip the file**"
      ],
      "metadata": {
        "id": "XDBlVkXacrsn"
      }
    },
    {
      "cell_type": "code",
      "source": [
        "# Unzip the uploaded file\n",
        "with zipfile.ZipFile(\"AP001.csv.zip\", 'r') as zip_ref:\n",
        "    zip_ref.extractall()\n",
        "\n",
        "# Check extracted files\n",
        "print(os.listdir())\n"
      ],
      "metadata": {
        "colab": {
          "base_uri": "https://localhost:8080/"
        },
        "id": "uZpEQjf5Yc5r",
        "outputId": "3527de11-ff29-4560-e606-c9e4fbdd64b7"
      },
      "execution_count": 17,
      "outputs": [
        {
          "output_type": "stream",
          "name": "stdout",
          "text": [
            "['.config', 'AP001.csv', 'AP001.csv (1).zip', 'AP001.csv (2).zip', 'AP001.csv.zip', 'sample_data']\n"
          ]
        }
      ]
    },
    {
      "cell_type": "markdown",
      "source": [
        "#**Import libraries**"
      ],
      "metadata": {
        "id": "W9ckDPxzc19f"
      }
    },
    {
      "cell_type": "code",
      "source": [
        "import pandas as pd\n",
        "import numpy as np\n",
        "import matplotlib.pyplot as plt\n",
        "import seaborn as sns\n"
      ],
      "metadata": {
        "id": "QtUV1AruYlUl"
      },
      "execution_count": 18,
      "outputs": []
    },
    {
      "cell_type": "markdown",
      "source": [
        "#**Load the dataset**"
      ],
      "metadata": {
        "id": "ZALIW-Blc7ap"
      }
    },
    {
      "cell_type": "code",
      "source": [
        "df = pd.read_csv(\"AP001.csv\", low_memory=False)\n"
      ],
      "metadata": {
        "id": "5oFZrUmlaHuz"
      },
      "execution_count": 19,
      "outputs": []
    },
    {
      "cell_type": "markdown",
      "source": [],
      "metadata": {
        "id": "x5HdqqXddEMA"
      }
    },
    {
      "cell_type": "markdown",
      "source": [
        "#**Exploring the dataset**"
      ],
      "metadata": {
        "id": "aZH3h1REdE1h"
      }
    },
    {
      "cell_type": "code",
      "source": [
        "print(df.head())"
      ],
      "metadata": {
        "colab": {
          "base_uri": "https://localhost:8080/"
        },
        "id": "GvNFhrPrbLw2",
        "outputId": "2ce251c4-6fe4-4c7d-f1d0-b57fe22dc677"
      },
      "execution_count": 20,
      "outputs": [
        {
          "output_type": "stream",
          "name": "stdout",
          "text": [
            "             From Date              To Date  PM2.5 (ug/m3)  PM10 (ug/m3)  \\\n",
            "0  2016-07-01 10:00:00  2016-07-01 11:00:00          10.67          39.0   \n",
            "1  2016-07-01 11:00:00  2016-07-01 12:00:00           2.00          39.0   \n",
            "2  2016-07-01 12:00:00  2016-07-01 13:00:00            NaN           NaN   \n",
            "3  2016-07-01 13:00:00  2016-07-01 14:00:00            NaN           NaN   \n",
            "4  2016-07-01 14:00:00  2016-07-01 15:00:00          20.50          50.0   \n",
            "\n",
            "   NO (ug/m3)  NO2 (ug/m3)  NOx (ppb)  NH3 (ug/m3)  SO2 (ug/m3)  CO (mg/m3)  \\\n",
            "0       17.67         39.2      32.33         7.07         6.60        0.48   \n",
            "1       20.50         41.9      35.80         7.40          NaN        0.49   \n",
            "2         NaN          NaN        NaN          NaN          NaN         NaN   \n",
            "3         NaN          NaN        NaN          NaN          NaN         NaN   \n",
            "4       15.40         43.6      32.78         6.35         6.38        0.47   \n",
            "\n",
            "   ...  Temp (degree C)  RH (%)  WS (m/s)  WD (deg)  SR (W/mt2)  BP (mmHg)  \\\n",
            "0  ...            33.43   71.67      2.30    226.33      123.67        NaN   \n",
            "1  ...            33.70   70.00      2.50    223.00      186.00        NaN   \n",
            "2  ...              NaN     NaN       NaN       NaN         NaN        NaN   \n",
            "3  ...              NaN     NaN       NaN       NaN         NaN        NaN   \n",
            "4  ...            33.57   63.50      1.88    223.00      240.50        NaN   \n",
            "\n",
            "   VWS (m/s)  Xylene (ug/m3)  RF (mm)  AT (degree C)  \n",
            "0       -0.1             0.1      0.0          23.05  \n",
            "1       -0.1             0.1      0.0            NaN  \n",
            "2        NaN             NaN      NaN            NaN  \n",
            "3        NaN             NaN      NaN            NaN  \n",
            "4       -0.1             0.1      0.0            NaN  \n",
            "\n",
            "[5 rows x 23 columns]\n"
          ]
        }
      ]
    },
    {
      "cell_type": "code",
      "source": [
        "print(df.info())"
      ],
      "metadata": {
        "colab": {
          "base_uri": "https://localhost:8080/"
        },
        "id": "ubFnjdm7bTlK",
        "outputId": "7686b3f7-01ac-4154-ae2a-6137663c1692"
      },
      "execution_count": 21,
      "outputs": [
        {
          "output_type": "stream",
          "name": "stdout",
          "text": [
            "<class 'pandas.core.frame.DataFrame'>\n",
            "RangeIndex: 59150 entries, 0 to 59149\n",
            "Data columns (total 23 columns):\n",
            " #   Column           Non-Null Count  Dtype  \n",
            "---  ------           --------------  -----  \n",
            " 0   From Date        59150 non-null  object \n",
            " 1   To Date          59150 non-null  object \n",
            " 2   PM2.5 (ug/m3)    54323 non-null  float64\n",
            " 3   PM10 (ug/m3)     54450 non-null  float64\n",
            " 4   NO (ug/m3)       55153 non-null  float64\n",
            " 5   NO2 (ug/m3)      55100 non-null  float64\n",
            " 6   NOx (ppb)        55315 non-null  float64\n",
            " 7   NH3 (ug/m3)      53564 non-null  float64\n",
            " 8   SO2 (ug/m3)      54285 non-null  float64\n",
            " 9   CO (mg/m3)       54673 non-null  float64\n",
            " 10  Ozone (ug/m3)    54567 non-null  float64\n",
            " 11  Benzene (ug/m3)  55213 non-null  float64\n",
            " 12  Toluene (ug/m3)  55213 non-null  float64\n",
            " 13  Temp (degree C)  55113 non-null  float64\n",
            " 14  RH (%)           55281 non-null  float64\n",
            " 15  WS (m/s)         55299 non-null  float64\n",
            " 16  WD (deg)         54656 non-null  float64\n",
            " 17  SR (W/mt2)       54589 non-null  float64\n",
            " 18  BP (mmHg)        1201 non-null   float64\n",
            " 19  VWS (m/s)        55341 non-null  float64\n",
            " 20  Xylene (ug/m3)   55200 non-null  float64\n",
            " 21  RF (mm)          55285 non-null  float64\n",
            " 22  AT (degree C)    55087 non-null  float64\n",
            "dtypes: float64(21), object(2)\n",
            "memory usage: 10.4+ MB\n",
            "None\n"
          ]
        }
      ]
    },
    {
      "cell_type": "code",
      "source": [
        "print(df.describe())"
      ],
      "metadata": {
        "colab": {
          "base_uri": "https://localhost:8080/"
        },
        "id": "NrlGmXtlbWpw",
        "outputId": "8c75793f-ff7f-431a-b1b3-af307d931922"
      },
      "execution_count": 22,
      "outputs": [
        {
          "output_type": "stream",
          "name": "stdout",
          "text": [
            "       PM2.5 (ug/m3)  PM10 (ug/m3)    NO (ug/m3)   NO2 (ug/m3)     NOx (ppb)  \\\n",
            "count   54323.000000  54450.000000  55153.000000  55100.000000  55315.000000   \n",
            "mean       29.718423     58.531252     13.077963     39.195409     31.171453   \n",
            "std        21.365617     32.388101     16.124784     30.716953     25.048555   \n",
            "min         0.250000      1.000000      0.100000      0.100000      0.000000   \n",
            "25%        13.250000     34.000000      3.800000     17.400000     13.780000   \n",
            "50%        24.000000     53.500000      8.100000     30.650000     24.880000   \n",
            "75%        42.500000     78.500000     16.170000     52.950000     41.150000   \n",
            "max       449.500000    929.000000    288.170000    313.650000    364.800000   \n",
            "\n",
            "        NH3 (ug/m3)   SO2 (ug/m3)    CO (mg/m3)  Ozone (ug/m3)  \\\n",
            "count  53564.000000  54285.000000  54673.000000   54567.000000   \n",
            "mean      10.057892      5.782241      0.634884      28.681448   \n",
            "std        5.949501      4.538823      0.850052      19.189147   \n",
            "min        0.100000      0.030000      0.000000       0.070000   \n",
            "25%        6.200000      3.650000      0.350000      16.370000   \n",
            "50%        8.420000      5.150000      0.570000      22.380000   \n",
            "75%       12.200000      6.970000      0.790000      36.000000   \n",
            "max      195.200000    199.770000     41.100000     199.700000   \n",
            "\n",
            "       Benzene (ug/m3)  ...  Temp (degree C)        RH (%)      WS (m/s)  \\\n",
            "count     55213.000000  ...     55113.000000  55281.000000  55299.000000   \n",
            "mean          0.813874  ...        30.296565     71.962430      1.170445   \n",
            "std           1.398240  ...         2.885504     13.575538      0.719358   \n",
            "min           0.000000  ...         7.300000     15.250000      0.080000   \n",
            "25%           0.330000  ...        28.770000     62.500000      0.600000   \n",
            "50%           0.600000  ...        29.880000     73.750000      1.050000   \n",
            "75%           1.100000  ...        31.350000     84.000000      1.600000   \n",
            "max         118.520000  ...        59.900000     92.330000     34.850000   \n",
            "\n",
            "           WD (deg)    SR (W/mt2)    BP (mmHg)     VWS (m/s)  Xylene (ug/m3)  \\\n",
            "count  54656.000000  54589.000000  1201.000000  55341.000000    55200.000000   \n",
            "mean     180.160190     72.830661   755.713988     -0.015668        0.316406   \n",
            "std       74.972401    131.376023    14.906888      0.165063        1.594764   \n",
            "min        1.000000      0.000000   725.000000    -17.600000        0.000000   \n",
            "25%      123.750000      3.000000   751.500000     -0.100000        0.030000   \n",
            "50%      183.500000      8.000000   755.250000     -0.030000        0.100000   \n",
            "75%      235.250000     71.000000   758.000000      0.030000        0.250000   \n",
            "max      360.000000    956.000000  1050.000000      1.700000      127.850000   \n",
            "\n",
            "            RF (mm)  AT (degree C)  \n",
            "count  55285.000000   55087.000000  \n",
            "mean       0.052524      22.279584  \n",
            "std        0.441987       3.006088  \n",
            "min        0.000000       4.680000  \n",
            "25%        0.000000      20.200000  \n",
            "50%        0.000000      22.050000  \n",
            "75%        0.000000      24.250000  \n",
            "max       30.000000      35.350000  \n",
            "\n",
            "[8 rows x 21 columns]\n"
          ]
        }
      ]
    },
    {
      "cell_type": "code",
      "source": [
        "print(df.isnull().sum())"
      ],
      "metadata": {
        "colab": {
          "base_uri": "https://localhost:8080/"
        },
        "id": "OejptvYjbZW6",
        "outputId": "7a5da4d5-47d4-450e-b4b1-26c338b83c80"
      },
      "execution_count": 23,
      "outputs": [
        {
          "output_type": "stream",
          "name": "stdout",
          "text": [
            "From Date              0\n",
            "To Date                0\n",
            "PM2.5 (ug/m3)       4827\n",
            "PM10 (ug/m3)        4700\n",
            "NO (ug/m3)          3997\n",
            "NO2 (ug/m3)         4050\n",
            "NOx (ppb)           3835\n",
            "NH3 (ug/m3)         5586\n",
            "SO2 (ug/m3)         4865\n",
            "CO (mg/m3)          4477\n",
            "Ozone (ug/m3)       4583\n",
            "Benzene (ug/m3)     3937\n",
            "Toluene (ug/m3)     3937\n",
            "Temp (degree C)     4037\n",
            "RH (%)              3869\n",
            "WS (m/s)            3851\n",
            "WD (deg)            4494\n",
            "SR (W/mt2)          4561\n",
            "BP (mmHg)          57949\n",
            "VWS (m/s)           3809\n",
            "Xylene (ug/m3)      3950\n",
            "RF (mm)             3865\n",
            "AT (degree C)       4063\n",
            "dtype: int64\n"
          ]
        }
      ]
    },
    {
      "cell_type": "code",
      "source": [],
      "metadata": {
        "id": "WpWN5w0kbdNZ"
      },
      "execution_count": 23,
      "outputs": []
    }
  ]
}